{
 "cells": [
  {
   "attachments": {},
   "cell_type": "markdown",
   "metadata": {},
   "source": [
    "# GYM basic example\n",
    "- gym appears to be obsolete, use gymnasium when possible.\n",
    "- this is only as demnonstration that UI can work with no virtualscreen dependency (see parameter 'human' below)."
   ]
  },
  {
   "cell_type": "code",
   "execution_count": 6,
   "metadata": {},
   "outputs": [
    {
     "name": "stdout",
     "output_type": "stream",
     "text": [
      "Requirement already satisfied: gym[box2d] in /home/ubuntu/SOFTWARE/DYNABIC/SOFTWARE/riskbn/.venv/lib/python3.8/site-packages (0.26.2)\n",
      "Requirement already satisfied: gym-notices>=0.0.4 in /home/ubuntu/SOFTWARE/DYNABIC/SOFTWARE/riskbn/.venv/lib/python3.8/site-packages (from gym[box2d]) (0.0.8)\n",
      "Requirement already satisfied: cloudpickle>=1.2.0 in /home/ubuntu/SOFTWARE/DYNABIC/SOFTWARE/riskbn/.venv/lib/python3.8/site-packages (from gym[box2d]) (2.2.1)\n",
      "Requirement already satisfied: importlib-metadata>=4.8.0 in /home/ubuntu/SOFTWARE/DYNABIC/SOFTWARE/riskbn/.venv/lib/python3.8/site-packages (from gym[box2d]) (6.0.0)\n",
      "Requirement already satisfied: numpy>=1.18.0 in /home/ubuntu/SOFTWARE/DYNABIC/SOFTWARE/riskbn/.venv/lib/python3.8/site-packages (from gym[box2d]) (1.24.2)\n",
      "Requirement already satisfied: box2d-py==2.3.5 in /home/ubuntu/SOFTWARE/DYNABIC/SOFTWARE/riskbn/.venv/lib/python3.8/site-packages (from gym[box2d]) (2.3.5)\n",
      "Requirement already satisfied: pygame==2.1.0 in /home/ubuntu/SOFTWARE/DYNABIC/SOFTWARE/riskbn/.venv/lib/python3.8/site-packages (from gym[box2d]) (2.1.0)\n",
      "Requirement already satisfied: swig==4.* in /home/ubuntu/SOFTWARE/DYNABIC/SOFTWARE/riskbn/.venv/lib/python3.8/site-packages (from gym[box2d]) (4.1.1)\n",
      "Requirement already satisfied: zipp>=0.5 in /home/ubuntu/SOFTWARE/DYNABIC/SOFTWARE/riskbn/.venv/lib/python3.8/site-packages (from importlib-metadata>=4.8.0->gym[box2d]) (3.15.0)\n"
     ]
    }
   ],
   "source": [
    "!pip install gym[box2d]\n",
    "#!pip install gymnasium[box2d]"
   ]
  },
  {
   "cell_type": "code",
   "execution_count": 8,
   "metadata": {},
   "outputs": [],
   "source": [
    "import gym\n",
    "env = gym.make(\"LunarLander-v2\", render_mode=\"human\")\n",
    "env.action_space.seed(42)\n",
    "\n",
    "observation, info = env.reset(seed=42)\n",
    "\n",
    "for _ in range(1000):\n",
    "    observation, reward, terminated, truncated, info = env.step(env.action_space.sample())\n",
    "\n",
    "    if terminated or truncated:\n",
    "        observation, info = env.reset()\n",
    "\n",
    "env.close()"
   ]
  }
 ],
 "metadata": {
  "kernelspec": {
   "display_name": ".venv",
   "language": "python",
   "name": "python3"
  },
  "language_info": {
   "codemirror_mode": {
    "name": "ipython",
    "version": 3
   },
   "file_extension": ".py",
   "mimetype": "text/x-python",
   "name": "python",
   "nbconvert_exporter": "python",
   "pygments_lexer": "ipython3",
   "version": "3.8.10"
  },
  "orig_nbformat": 4
 },
 "nbformat": 4,
 "nbformat_minor": 2
}
